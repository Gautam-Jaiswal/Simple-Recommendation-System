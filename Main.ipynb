{
 "cells": [
  {
   "cell_type": "code",
   "execution_count": 72,
   "id": "d1bc365d",
   "metadata": {},
   "outputs": [],
   "source": [
    "import numpy as np\n",
    "import pandas as pd\n",
    "import difflib\n",
    "from sklearn.feature_extraction.text import TfidfVectorizer\n",
    "from sklearn.metrics.pairwise import cosine_similarity"
   ]
  },
  {
   "cell_type": "code",
   "execution_count": 73,
   "id": "51cf3fe2",
   "metadata": {},
   "outputs": [],
   "source": [
    "df = pd.read_csv('pre-processed.csv')"
   ]
  },
  {
   "cell_type": "code",
   "execution_count": 74,
   "id": "cd6357d0",
   "metadata": {},
   "outputs": [],
   "source": [
    "df['index'] = df.index"
   ]
  },
  {
   "cell_type": "code",
   "execution_count": 75,
   "id": "74e6be26",
   "metadata": {},
   "outputs": [
    {
     "data": {
      "text/html": [
       "<div>\n",
       "<style scoped>\n",
       "    .dataframe tbody tr th:only-of-type {\n",
       "        vertical-align: middle;\n",
       "    }\n",
       "\n",
       "    .dataframe tbody tr th {\n",
       "        vertical-align: top;\n",
       "    }\n",
       "\n",
       "    .dataframe thead th {\n",
       "        text-align: right;\n",
       "    }\n",
       "</style>\n",
       "<table border=\"1\" class=\"dataframe\">\n",
       "  <thead>\n",
       "    <tr style=\"text-align: right;\">\n",
       "      <th></th>\n",
       "      <th>Title</th>\n",
       "      <th>Director</th>\n",
       "      <th>Genre</th>\n",
       "      <th>Cast</th>\n",
       "      <th>combined</th>\n",
       "      <th>index</th>\n",
       "    </tr>\n",
       "  </thead>\n",
       "  <tbody>\n",
       "    <tr>\n",
       "      <th>0</th>\n",
       "      <td>102 dalmatians</td>\n",
       "      <td>kevin lima</td>\n",
       "      <td>comedy  family</td>\n",
       "      <td>glenn close  gérard depardieu  alice evans</td>\n",
       "      <td>102 dalmatians kevin lima comedy  family glenn...</td>\n",
       "      <td>0</td>\n",
       "    </tr>\n",
       "    <tr>\n",
       "      <th>1</th>\n",
       "      <td>28 days</td>\n",
       "      <td>betty thomas</td>\n",
       "      <td>drama</td>\n",
       "      <td>sandra bullock  viggo mortensen</td>\n",
       "      <td>28 days betty thomas drama sandra bullock  vig...</td>\n",
       "      <td>1</td>\n",
       "    </tr>\n",
       "    <tr>\n",
       "      <th>2</th>\n",
       "      <td>3 strikes</td>\n",
       "      <td>dj pooh</td>\n",
       "      <td>comedy</td>\n",
       "      <td>brian hooks  n'bushe wright</td>\n",
       "      <td>3 strikes dj pooh comedy brian hooks  n'bushe ...</td>\n",
       "      <td>2</td>\n",
       "    </tr>\n",
       "    <tr>\n",
       "      <th>3</th>\n",
       "      <td>the 6th day</td>\n",
       "      <td>roger spottiswoode</td>\n",
       "      <td>science fiction</td>\n",
       "      <td>arnold schwarzenegger  robert duvall</td>\n",
       "      <td>the 6th day roger spottiswoode science fiction...</td>\n",
       "      <td>3</td>\n",
       "    </tr>\n",
       "    <tr>\n",
       "      <th>4</th>\n",
       "      <td>across the line</td>\n",
       "      <td>martin spottl</td>\n",
       "      <td>thriller</td>\n",
       "      <td>brad johnson  adrienne barbeau  brian bloom</td>\n",
       "      <td>across the line martin spottl thriller brad jo...</td>\n",
       "      <td>4</td>\n",
       "    </tr>\n",
       "  </tbody>\n",
       "</table>\n",
       "</div>"
      ],
      "text/plain": [
       "             Title            Director            Genre  \\\n",
       "0   102 dalmatians          kevin lima   comedy  family   \n",
       "1          28 days        betty thomas            drama   \n",
       "2        3 strikes             dj pooh           comedy   \n",
       "3      the 6th day  roger spottiswoode  science fiction   \n",
       "4  across the line       martin spottl         thriller   \n",
       "\n",
       "                                          Cast  \\\n",
       "0   glenn close  gérard depardieu  alice evans   \n",
       "1              sandra bullock  viggo mortensen   \n",
       "2                  brian hooks  n'bushe wright   \n",
       "3         arnold schwarzenegger  robert duvall   \n",
       "4  brad johnson  adrienne barbeau  brian bloom   \n",
       "\n",
       "                                            combined  index  \n",
       "0  102 dalmatians kevin lima comedy  family glenn...      0  \n",
       "1  28 days betty thomas drama sandra bullock  vig...      1  \n",
       "2  3 strikes dj pooh comedy brian hooks  n'bushe ...      2  \n",
       "3  the 6th day roger spottiswoode science fiction...      3  \n",
       "4  across the line martin spottl thriller brad jo...      4  "
      ]
     },
     "execution_count": 75,
     "metadata": {},
     "output_type": "execute_result"
    }
   ],
   "source": [
    "df.head()"
   ]
  },
  {
   "cell_type": "code",
   "execution_count": 76,
   "id": "d9c06b99",
   "metadata": {},
   "outputs": [],
   "source": [
    "vectorizer = TfidfVectorizer()"
   ]
  },
  {
   "cell_type": "code",
   "execution_count": 77,
   "id": "ecf7f8bd",
   "metadata": {},
   "outputs": [],
   "source": [
    "feature_vectors = vectorizer.fit_transform(df.combined)"
   ]
  },
  {
   "cell_type": "code",
   "execution_count": 78,
   "id": "670f2759",
   "metadata": {},
   "outputs": [],
   "source": [
    "similarity = cosine_similarity(feature_vectors)"
   ]
  },
  {
   "cell_type": "code",
   "execution_count": 79,
   "id": "dabee10f",
   "metadata": {},
   "outputs": [],
   "source": [
    "list_of_all_movie_titles = df.Title.to_list()"
   ]
  },
  {
   "cell_type": "code",
   "execution_count": 80,
   "id": "fd3e04d6",
   "metadata": {},
   "outputs": [],
   "source": [
    "list_of_all_movie_titles.sort()"
   ]
  },
  {
   "cell_type": "code",
   "execution_count": 81,
   "id": "7c228b82",
   "metadata": {
    "scrolled": false
   },
   "outputs": [
    {
     "name": "stdout",
     "output_type": "stream",
     "text": [
      "Please enter movie name : 2012\n"
     ]
    }
   ],
   "source": [
    "movie_name = input(\"Please enter movie name : \")"
   ]
  },
  {
   "cell_type": "code",
   "execution_count": 82,
   "id": "3f04a12d",
   "metadata": {},
   "outputs": [
    {
     "data": {
      "text/plain": [
       "['2012', '21', '12', '2:22']"
      ]
     },
     "execution_count": 82,
     "metadata": {},
     "output_type": "execute_result"
    }
   ],
   "source": [
    "close_match_movies = difflib.get_close_matches(word=movie_name, possibilities=list_of_all_movie_titles, n=5, cutoff=0.5)\n",
    "close_match_movies"
   ]
  },
  {
   "cell_type": "code",
   "execution_count": 83,
   "id": "fe80cb37",
   "metadata": {},
   "outputs": [
    {
     "data": {
      "text/plain": [
       "'2012'"
      ]
     },
     "execution_count": 83,
     "metadata": {},
     "output_type": "execute_result"
    }
   ],
   "source": [
    "close_match = close_match_movies[0]\n",
    "close_match"
   ]
  },
  {
   "cell_type": "code",
   "execution_count": 84,
   "id": "578f21ea",
   "metadata": {},
   "outputs": [
    {
     "name": "stdout",
     "output_type": "stream",
     "text": [
      "2291\n"
     ]
    }
   ],
   "source": [
    "index_of_movie = df[df.Title == close_match].index.values[0]\n",
    "print(index_of_movie)"
   ]
  },
  {
   "cell_type": "code",
   "execution_count": 85,
   "id": "1ed041e6",
   "metadata": {},
   "outputs": [],
   "source": [
    "similarity_score = list(enumerate(similarity[index_of_movie]))"
   ]
  },
  {
   "cell_type": "code",
   "execution_count": 86,
   "id": "9c8069cb",
   "metadata": {},
   "outputs": [],
   "source": [
    "sorted_similarity_score = sorted(similarity_score, key = lambda x:x[1], reverse=True)"
   ]
  },
  {
   "cell_type": "code",
   "execution_count": 87,
   "id": "956ee7f7",
   "metadata": {},
   "outputs": [
    {
     "name": "stdout",
     "output_type": "stream",
     "text": [
      "2012\n",
      "identity\n",
      "doctor strange\n",
      "infinite\n",
      "triple 9\n",
      "martian child\n",
      "white house down\n",
      "midway\n",
      "salt\n",
      "american gangster\n",
      "10,000 bc\n",
      "locked down\n",
      "stonewall\n",
      "biography\n",
      "the day after tomorrow\n",
      "anonymous\n",
      "12 years a slave\n",
      "gulliver's travels\n",
      "griffin & phoenix\n",
      "the patriot\n",
      "the lovers\n",
      "whipped\n",
      "please give\n",
      "martial arts\n",
      "the whole ten yards\n",
      "a lot like love\n",
      "the x-files: i want to believe\n",
      "isn't she great\n",
      "in time\n"
     ]
    }
   ],
   "source": [
    "i = 1\n",
    "\n",
    "for movie in sorted_similarity_score:\n",
    "    index = movie[0]\n",
    "    title_from_index = df[df.index==index]['Title'].values[0]\n",
    "    if (i<30):\n",
    "        print(title_from_index)\n",
    "        i+=1\n",
    "    else:\n",
    "        break"
   ]
  }
 ],
 "metadata": {
  "kernelspec": {
   "display_name": "Python 3 (ipykernel)",
   "language": "python",
   "name": "python3"
  },
  "language_info": {
   "codemirror_mode": {
    "name": "ipython",
    "version": 3
   },
   "file_extension": ".py",
   "mimetype": "text/x-python",
   "name": "python",
   "nbconvert_exporter": "python",
   "pygments_lexer": "ipython3",
   "version": "3.7.11"
  }
 },
 "nbformat": 4,
 "nbformat_minor": 5
}
